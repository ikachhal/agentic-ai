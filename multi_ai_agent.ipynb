{
  "cells": [
    {
      "cell_type": "code",
      "execution_count": null,
      "metadata": {
        "colab": {
          "base_uri": "https://localhost:8080/"
        },
        "id": "YqT1hRLErLcO",
        "outputId": "030efa3a-8384-4dc9-e056-495cea21d564"
      },
      "outputs": [
        {
          "name": "stdout",
          "output_type": "stream",
          "text": [
            "Writing .env\n"
          ]
        }
      ],
      "source": [
        "%%writefile .env\n",
        "#OPENAI_API_KEY=\"sk-proj-\"\n",
        "#TAVILY_API_KEY=tvly-dev-"
      ]
    },
    {
      "cell_type": "code",
      "execution_count": null,
      "metadata": {
        "id": "aYg5JmvAuXXp"
      },
      "outputs": [],
      "source": [
        "pip install -q openai-agents==0.2.2 python-dotenv requests pydantic"
      ]
    },
    {
      "cell_type": "code",
      "execution_count": 4,
      "metadata": {
        "colab": {
          "base_uri": "https://localhost:8080/"
        },
        "id": "J7x4plWkuhmR",
        "outputId": "fbca15b6-889f-454b-dff1-152d6b1df08c"
      },
      "outputs": [
        {
          "name": "stdout",
          "output_type": "stream",
          "text": [
            "✅ API keys loaded\n",
            "  OpenAI … sk-pr***\n",
            "  Tavily … tvly-***\n"
          ]
        }
      ],
      "source": [
        "import os\n",
        "import requests\n",
        "from IPython.display import display, Markdown\n",
        "from openai import OpenAI\n",
        "from dotenv import load_dotenv\n",
        "from agents import Agent, Runner, function_tool, SQLiteSession\n",
        "from typing_extensions import TypedDict\n",
        "from pydantic import BaseModel\n",
        "\n",
        "load_dotenv()\n",
        "openai_api_key = os.getenv(\"OPENAI_API_KEY\")\n",
        "tavily_api_key = os.getenv(\"TAVILY_API_KEY\")\n",
        "\n",
        "print(\"✅ API keys loaded\")\n",
        "print(f\"  OpenAI … {openai_api_key[:5]}***\")\n",
        "print(f\"  Tavily … {tavily_api_key[:5]}***\")"
      ]
    },
    {
      "cell_type": "code",
      "execution_count": 5,
      "metadata": {
        "id": "gNDwjQ1cu1VW"
      },
      "outputs": [],
      "source": [
        "def print_markdown(text):\n",
        "    display(Markdown(text))"
      ]
    },
    {
      "cell_type": "code",
      "execution_count": 6,
      "metadata": {
        "id": "wWseURWyvj1Z"
      },
      "outputs": [],
      "source": [
        "class TavilySearchParams(TypedDict):\n",
        "    query: str\n",
        "    max_results: int"
      ]
    },
    {
      "cell_type": "code",
      "execution_count": 7,
      "metadata": {
        "colab": {
          "base_uri": "https://localhost:8080/"
        },
        "id": "RKJaBnwTvlQk",
        "outputId": "79cc30cf-ed44-4e3c-8d10-2781aea72ddb"
      },
      "outputs": [
        {
          "name": "stdout",
          "output_type": "stream",
          "text": [
            "✅ Tavily search tool ready.\n"
          ]
        }
      ],
      "source": [
        "@function_tool\n",
        "def tavily_search(params: TavilySearchParams) -> str:\n",
        "    url = \"https://api.tavily.com/search\"\n",
        "    headers = {\"Content-Type\": \"application/json\"}\n",
        "    payload = {\n",
        "        \"api_key\": tavily_api_key,\n",
        "        \"query\": params[\"query\"],\n",
        "        \"max_results\": params.get(\"max_results\", 3),\n",
        "    }\n",
        "    response = requests.post(url, json = payload, headers = headers)\n",
        "    if response.status_code == 200:\n",
        "        results = response.json().get(\"results\", [])\n",
        "        summary = \"\\n\".join([f\"- {r['title']}: {r['content']}\" for r in results])\n",
        "        return summary if summary else \"No relevant results found.\"\n",
        "    else:\n",
        "        return f\"Tavily API error: {response.status_code}\"\n",
        "\n",
        "print(\"✅ Tavily search tool ready.\")"
      ]
    },
    {
      "cell_type": "code",
      "execution_count": 8,
      "metadata": {
        "colab": {
          "base_uri": "https://localhost:8080/"
        },
        "id": "eeeTHuUjw5zf",
        "outputId": "50ecb0c8-7d7f-478e-bc48-55d8344ed287"
      },
      "outputs": [
        {
          "name": "stdout",
          "output_type": "stream",
          "text": [
            "✅ Researcher AI agent is now ready\n"
          ]
        }
      ],
      "source": [
        "# Let's define our Researcher AI Agent\n",
        "\n",
        "# Define a Pydantic model for the agent's output.\n",
        "# This ensures the agent's final output will have a single field: \"summary\" (string).\n",
        "# Note that this will be used in both the researcher and analyst agents\n",
        "class AnalysisSummary(BaseModel):\n",
        "    summary: str\n",
        "\n",
        "\n",
        "# Create an AI agent called \"Researcher\"\n",
        "researcher_agent = Agent(name = \"Researcher\",\n",
        "                         instructions = \"\"\"\n",
        "## Context\n",
        "You are a research agent with access to the Tavily search tool.\n",
        "\n",
        "## Instruction\n",
        "Given a user query, use the Tavily search tool to find relevant information and summarize the key findings.\n",
        "\n",
        "## Input\n",
        "- A research query from the user.\n",
        "\n",
        "## Output\n",
        "- A summary of key findings in a maximum of 5 bullet points.\n",
        "\"\"\",\n",
        "    model = \"gpt-4.1-mini\",\n",
        "    tools = [tavily_search],\n",
        "    output_type = AnalysisSummary)\n",
        "\n",
        "print(\"✅ Researcher AI agent is now ready\")"
      ]
    },
    {
      "cell_type": "code",
      "execution_count": null,
      "metadata": {
        "id": "pRFb_hJSw_Pv"
      },
      "outputs": [],
      "source": [
        "researcher_result = await Runner.run(researcher_agent, \"Why is Labubu so popular and what are the rarest Labubu collectibles?\")\n",
        "researcher_result"
      ]
    },
    {
      "cell_type": "code",
      "execution_count": 9,
      "metadata": {
        "colab": {
          "base_uri": "https://localhost:8080/",
          "height": 205
        },
        "id": "9qh5RIeZxRa0",
        "outputId": "bd4895de-a435-4005-d36e-87f6e99095e5"
      },
      "outputs": [
        {
          "data": {
            "text/markdown": [
              "### 🤖 Agent’s Answer\n",
              "- Labubu gained popularity largely due to its creation by illustrator Kasing Lung and its integration into POP MART's blind box format, which adds an element of surprise and collectability.\n",
              "- The Labubu 'Have a Seat' series is a recent popular release with limited availability, making it highly sought after by collectors.\n",
              "- Blind box collectors are particularly drawn to the \"secret\" chase figures within the Labubu series, enhancing the thrill of collection.\n",
              "- Among the rarest Labubu collectibles is the \"Pink Microwave\" hidden version from the Labubu Convenience Store blind box series, known for its extremely low pull rate of 1 in several thousand.\n",
              "- Labubu is part of a broader trend of popular collectible dolls and art toys, often ranking in top lists on platforms like TikTok and being featured in various collectible series by POP MART."
            ],
            "text/plain": [
              "<IPython.core.display.Markdown object>"
            ]
          },
          "metadata": {},
          "output_type": "display_data"
        }
      ],
      "source": [
        "print_markdown(f\"### 🤖 Agent’s Answer\\n{researcher_result.final_output.summary}\")"
      ]
    },
    {
      "cell_type": "code",
      "execution_count": 9,
      "metadata": {
        "colab": {
          "base_uri": "https://localhost:8080/"
        },
        "id": "psfqhV5AxZAG",
        "outputId": "110da40a-ccfa-4be4-c509-d3206a7fbb7b"
      },
      "outputs": [
        {
          "name": "stdout",
          "output_type": "stream",
          "text": [
            "✅ Analyst AI agent us now ready\n"
          ]
        }
      ],
      "source": [
        "analyst_agent = Agent(name = \"Analyst\",\n",
        "                      instructions = \"\"\"\n",
        "## Context\n",
        "You are an analyst who receives research notes generated by the research agent.\n",
        "\n",
        "## Instruction\n",
        "Given the research notes, analyze the content and extract key trends, risks, or insights.\n",
        "\n",
        "## Input\n",
        "- Research notes (summaries of findings from the research agent).\n",
        "\n",
        "## Output\n",
        "- A concise analysis (no more than 2 paragraphs) highlighting key trends, risks, or insights.\n",
        "\"\"\",\n",
        "    model = \"gpt-4.1-mini\",\n",
        "    output_type = AnalysisSummary,\n",
        ")\n",
        "\n",
        "print(\"✅ Analyst AI agent us now ready\")"
      ]
    },
    {
      "cell_type": "code",
      "execution_count": null,
      "metadata": {
        "id": "1d1KmkqGxak3"
      },
      "outputs": [],
      "source": [
        "researcher_result = await Runner.run(researcher_agent, \"Electric vehicles batteries trend in 2025\")\n",
        "researcher_result"
      ]
    },
    {
      "cell_type": "code",
      "execution_count": null,
      "metadata": {
        "id": "lWV315igykTv"
      },
      "outputs": [],
      "source": [
        "analyst_result = await Runner.run(analyst_agent, researcher_result.final_output.summary)\n",
        "researcher_result"
      ]
    },
    {
      "cell_type": "code",
      "execution_count": 13,
      "metadata": {
        "colab": {
          "base_uri": "https://localhost:8080/",
          "height": 193
        },
        "id": "Yj8vD-8PyxZI",
        "outputId": "5486eed2-22e6-4245-a875-c7009c99ebd2"
      },
      "outputs": [
        {
          "data": {
            "text/markdown": [
              "### 🤖 Agent’s Answer\n",
              "The EV battery market in 2025 is characterized by both consolidation and geographic diversification, driven by government initiatives to secure supply chains. Key technology trends include the expansion of mid-nickel NMC and L(M)FP batteries, increased use of silicon anodes, and pioneering next-generation battery technologies that underpin EV growth. Additionally, integration of vehicle-to-grid systems is enhancing driving range while enabling energy resale, which supports grid stability.\n",
              "\n",
              "Regulatory shifts, such as heightened taxes on internal combustion and hybrid vehicles starting April 2025, are expected to accelerate the shift towards battery electric vehicles. This market momentum is reflected in a projected 25% growth in global EV sales and a near doubling of lithium-ion battery manufacturing capacity to 3.8 TWh by the end of 2025, highlighting strong industry expansion but also potential supply chain and sustainability challenges."
            ],
            "text/plain": [
              "<IPython.core.display.Markdown object>"
            ]
          },
          "metadata": {},
          "output_type": "display_data"
        }
      ],
      "source": [
        "print_markdown(f\"### 🤖 Agent’s Answer\\n{analyst_result.final_output.summary}\")"
      ]
    },
    {
      "cell_type": "code",
      "execution_count": 10,
      "metadata": {
        "colab": {
          "base_uri": "https://localhost:8080/"
        },
        "id": "uVcGGF5R6SOt",
        "outputId": "76b12728-64ef-4608-e84d-f8b3777bc5eb"
      },
      "outputs": [
        {
          "name": "stdout",
          "output_type": "stream",
          "text": [
            "✅ Writer AI Agent is now ready\n"
          ]
        }
      ],
      "source": [
        "class FinalReport(BaseModel):\n",
        "    short_summary: str  # A brief 2–3 sentence executive summary\n",
        "    markdown_report: str    # A detailed report in Markdown format (at least 500 words)\n",
        "    follow_up_questions: list[str]    # A list of 3–5 suggested follow-up research questions\n",
        "\n",
        "\n",
        "# Create an AI agent called \"Writer\"\n",
        "writer_agent = Agent(\n",
        "    name = \"Writer\",\n",
        "    instructions = \"\"\"\n",
        "You are a senior market analyst tasked with generating an executive-level research report.\n",
        "\n",
        "## Context\n",
        "You will receive:\n",
        "- The original user query (the research question or topic of interest).\n",
        "- Summaries and analyses generated by helper tools: 'researcher_agent' (for bullet-point research findings) and 'analyst_agent' (for key trends, risks, or insights).\n",
        "\n",
        "You may call these helper tools as needed to gather additional information or clarify findings.\n",
        "\n",
        "## Instructions\n",
        "Your job is to synthesize all available information and produce the following outputs:\n",
        "1. **Executive Summary:** Write a concise summary (2–3 sentences) highlighting the most important findings relevant to the original query.\n",
        "2. **Detailed Markdown Report:** Compose a comprehensive, well-structured report in markdown format (at least 500 words) that covers key findings, context, implications, and supporting evidence.\n",
        "3. **Follow-up Research Questions:** Suggest 3–5 thoughtful follow-up questions for further investigation.\n",
        "\n",
        "## Input\n",
        "- The original user query.\n",
        "- Summaries and analyses from the helper tools.\n",
        "\n",
        "## Output\n",
        "Return a structured object with:\n",
        "- `short_summary`: The executive summary.\n",
        "- `markdown_report`: The detailed markdown report.\n",
        "- `follow_up_questions`: A list of 3–5 follow-up research questions.\n",
        "\"\"\",\n",
        "    model = \"gpt-4.1-mini\",\n",
        "    output_type = FinalReport,\n",
        ")\n",
        "\n",
        "print(\"✅ Writer AI Agent is now ready\")"
      ]
    },
    {
      "cell_type": "code",
      "execution_count": 11,
      "metadata": {
        "id": "qZoBLmVG622o"
      },
      "outputs": [],
      "source": [
        "# Create a session to store and share information between agents\n",
        "session = SQLiteSession(\"research_agent_practice\")\n",
        "\n",
        "# Define an async function that takes the user's question and runs the agents\n",
        "async def manager_run(user_query: str):\n",
        "    # Show the user’s question in a nice markdown format\n",
        "    print_markdown(f\"**User's Request:** {user_query}\")\n",
        "\n",
        "    # Step 1: Run the researcher agent to gather information about the user's query\n",
        "    researcher_result = await Runner.run(researcher_agent, user_query, session = session)\n",
        "    research_summary = researcher_result.final_output.summary  # Get the short research summary\n",
        "\n",
        "    # Step 2: Run the analyst agent to analyze the research findings\n",
        "    analyst_result = await Runner.run(analyst_agent, research_summary, session = session)\n",
        "    analysis_summary = analyst_result.final_output.summary  # Get the short analysis summary\n",
        "\n",
        "    # Step 3: Prepare the combined input for the writer agent\n",
        "    input_for_writer = (\n",
        "        f\"Original query: {user_query}\\n\"\n",
        "        f\"Research summary: {research_summary}\\n\"\n",
        "        f\"Analysis summary: {analysis_summary}\"\n",
        "    )\n",
        "\n",
        "    # Step 4: Run the writer agent to create the final report\n",
        "    writer_result = await Runner.run(writer_agent, input_for_writer, session = session)\n",
        "    final_output: FinalReport = writer_result.final_output  # The final report from the writer\n",
        "\n",
        "    # Step 5: Display the results in a nice, clear format\n",
        "    print_markdown(\"---\")\n",
        "    print_markdown(f\"### 📝 **Short Summary:**\\n{final_output.short_summary}\")  # Quick overview\n",
        "    print_markdown(\"\\n\\n-----------------\\n\\n\")\n",
        "    print_markdown(f\"### 📄 **Full Report (Markdown):**\\n{final_output.markdown_report}\")  # Detailed report\n",
        "    print_markdown(\"\\n\\n-----------------\\n\\n\")\n",
        "    print_markdown(\n",
        "        \"### 🔍 **Follow-Up Questions:**\\n- \"\n",
        "        + \"\\n- \".join(final_output.follow_up_questions)  # Any extra questions the user might explore\n",
        "    )\n",
        "    print_markdown(\"\\n\\n-----------------\\n\\n\")"
      ]
    },
    {
      "cell_type": "code",
      "execution_count": 12,
      "metadata": {
        "colab": {
          "base_uri": "https://localhost:8080/",
          "height": 1000
        },
        "id": "-H07A65toYjJ",
        "outputId": "0ea8a4dd-edff-4cc1-be5b-9450df74e083"
      },
      "outputs": [
        {
          "data": {
            "text/markdown": [
              "**User's Request:** How new H!B Visa rule going to impact students on OPT right now in terms of getting jobs and various other aspects?"
            ],
            "text/plain": [
              "<IPython.core.display.Markdown object>"
            ]
          },
          "metadata": {},
          "output_type": "display_data"
        },
        {
          "data": {
            "text/markdown": [
              "---"
            ],
            "text/plain": [
              "<IPython.core.display.Markdown object>"
            ]
          },
          "metadata": {},
          "output_type": "display_data"
        },
        {
          "data": {
            "text/markdown": [
              "### 📝 **Short Summary:**\n",
              "The new H-1B visa rules and proposed legislative changes significantly tighten the pathway for OPT students transitioning to H-1B employment, especially impacting Indian students who are the largest group of OPT holders. Although the Cap-Gap extension offers temporary relief, stricter wage requirements, potential elimination of OPT, and increased petition costs pose considerable challenges for securing jobs and maintaining legal work status in the U.S."
            ],
            "text/plain": [
              "<IPython.core.display.Markdown object>"
            ]
          },
          "metadata": {},
          "output_type": "display_data"
        },
        {
          "data": {
            "text/markdown": [
              "\n",
              "\n",
              "-----------------\n",
              "\n"
            ],
            "text/plain": [
              "<IPython.core.display.Markdown object>"
            ]
          },
          "metadata": {},
          "output_type": "display_data"
        },
        {
          "data": {
            "text/markdown": [
              "### 📄 **Full Report (Markdown):**\n",
              "# Impact of New H-1B Visa Rules on Students on OPT\n",
              "\n",
              "## Executive Overview\n",
              "Recent changes and proposed legislation around the H-1B visa system have ushered in a more stringent regulatory environment for international students currently on Optional Practical Training (OPT). This is particularly consequential for Indian students, who make up the largest segment of F-1 OPT visa holders in the United States. These adjustments affect job acquisition, the ability to maintain work authorization, and overall career planning strategies.\n",
              "\n",
              "## Key Findings\n",
              "\n",
              "### Increased Difficulty in Foreign Hiring\n",
              "The new H-1B visa rules are aligned with efforts to tighten immigration pathways, making it harder for U.S. employers to hire international graduates. The impact is especially pronounced for Indian nationals due to their significant representation among OPT students.\n",
              "\n",
              "### Importance and Limitations of the Cap-Gap Extension\n",
              "OPT students who have pending or approved H-1B petitions filed before their OPT or STEM OPT period ends may leverage the Cap-Gap extension to continue working legally while awaiting H-1B status activation. However, this extension is contingent on the approval and maintenance of the H-1B petition. If a petition is denied, revoked, or withdrawn, the Cap-Gap extension immediately terminates, and the student enters a 60-day grace period with limited options.\n",
              "\n",
              "### Risk of Denial for Late Applications\n",
              "There is an elevated risk associated with STEM OPT extension applications submitted after the expiration of the OPT EAD but during the Cap-Gap period. Such applications have been found to carry a high probability of denial, increasing uncertainty for students relying on these extensions.\n",
              "\n",
              "### Proposed Legislative Changes and Financial Challenges\n",
              "Proposals currently under consideration aim to raise the H-1B visa wage floor significantly, from approximately $60,000 to $150,000. Additionally, there are discussions about ending the OPT program itself, which would severely constrain the ability of international students to gain post-graduation work experience.\n",
              "\n",
              "Starting in 2025, a new $100,000 fee requirement will apply to many H-1B specialty occupation petitions, further increasing the cost and complexity of obtaining these visas.\n",
              "\n",
              "## Implications for OPT Students\n",
              "\n",
              "- **Job Market Access:** OPT students may find fewer opportunities due to employers' increased hesitance given the higher wage requirements and additional visa fees.\n",
              "\n",
              "- **Work Authorization Stability:** Reliance on the Cap-Gap extension is precarious; any negative outcome in H-1B petitions risks abrupt loss of work status.\n",
              "\n",
              "- **Financial and Administrative Burdens:** Higher fees and wage floors may discourage smaller employers from sponsoring H-1B visas, reducing options for OPT students.\n",
              "\n",
              "- **Long-Term Career Planning:** The potential elimination of OPT could force students to seek alternative pathways internationally or modify career expectations.\n",
              "\n",
              "## Conclusion\n",
              "The evolving H-1B visa landscape poses significant challenges for students on OPT, particularly those from India. Access to U.S. employment, continued work authorization, and financial feasibility of visa petitions all face increased hurdles. Students and stakeholders must stay informed and consider contingency plans amid these regulatory shifts.\n",
              "\n",
              "---\n",
              "\n",
              "### References\n",
              "- USCIS guidelines on Cap-Gap extensions\n",
              "- Legislative proposals to raise H-1B wage floors\n",
              "- Announced fee updates for H-1B visa petitions\n",
              "- Analysis from immigration policy experts and education consultants"
            ],
            "text/plain": [
              "<IPython.core.display.Markdown object>"
            ]
          },
          "metadata": {},
          "output_type": "display_data"
        },
        {
          "data": {
            "text/markdown": [
              "\n",
              "\n",
              "-----------------\n",
              "\n"
            ],
            "text/plain": [
              "<IPython.core.display.Markdown object>"
            ]
          },
          "metadata": {},
          "output_type": "display_data"
        },
        {
          "data": {
            "text/markdown": [
              "### 🔍 **Follow-Up Questions:**\n",
              "- How will the increased H-1B wage floor specifically affect employers in tech versus other industries employing OPT students?\n",
              "- What alternative visa options exist for OPT students if the H-1B process becomes prohibitively difficult or costly?\n",
              "- How can universities and international student offices better prepare students for these changes?\n",
              "- What are the projected long-term impacts on the U.S. labor market if OPT and H-1B reforms reduce international student employment?\n",
              "- How effective are Cap-Gap extensions in practice, and what legal reforms could improve protections for OPT students?"
            ],
            "text/plain": [
              "<IPython.core.display.Markdown object>"
            ]
          },
          "metadata": {},
          "output_type": "display_data"
        },
        {
          "data": {
            "text/markdown": [
              "\n",
              "\n",
              "-----------------\n",
              "\n"
            ],
            "text/plain": [
              "<IPython.core.display.Markdown object>"
            ]
          },
          "metadata": {},
          "output_type": "display_data"
        }
      ],
      "source": [
        "await manager_run(\"How new H!B Visa rule going to impact students on OPT right now in terms of getting jobs and various other aspects?\")"
      ]
    }
  ],
  "metadata": {
    "colab": {
      "provenance": []
    },
    "kernelspec": {
      "display_name": "Python 3",
      "name": "python3"
    },
    "language_info": {
      "name": "python"
    }
  },
  "nbformat": 4,
  "nbformat_minor": 0
}
